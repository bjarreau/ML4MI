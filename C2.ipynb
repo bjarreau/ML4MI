{
  "cells": [
    {
      "cell_type": "markdown",
      "metadata": {
        "id": "pfZeaG-_oWQ6"
      },
      "source": [
        "# <center>Challenge 2<center>"
      ]
    },
    {
      "cell_type": "markdown",
      "metadata": {
        "id": "jGzXK2osoWQ_"
      },
      "source": [
        "<p>Team Name:  B.C.\n",
        "<p>Student Names: Brittney Jarreau, Caleb Charpentier, Leanne Nicholas\n",
        "<p>Student W#s: 0455857, 0650629, 0670945"
      ]
    },
    {
      "cell_type": "markdown",
      "metadata": {
        "id": "LxoYOAJnoWRA"
      },
      "source": [
        "## Instructions\n",
        "Use generic coding style unless hard-coded values are really necessary.<br>\n",
        "Your code must be efficient and use self-explanatory naming.<br>\n",
        "Use appropriate Python library methods for each task instead of using loops.<br>\n",
        "Run your entire code and save. Then submit this <b>saved</b> copy."
      ]
    },
    {
      "cell_type": "markdown",
      "metadata": {
        "collapsed": true,
        "id": "Z4bcQQWXoWRC"
      },
      "source": [
        "## Imports"
      ]
    },
    {
      "cell_type": "code",
      "execution_count": 1,
      "metadata": {
        "collapsed": true,
        "id": "9sJ67vC1oWRD"
      },
      "outputs": [],
      "source": [
        "import numpy as np\n",
        "import pandas as pd\n",
        "import math\n",
        "import matplotlib\n",
        "import matplotlib.pyplot as plt\n",
        "from sklearn import preprocessing\n",
        "from sklearn.neighbors import KNeighborsRegressor\n",
        "from collections import Counter\n",
        "from sklearn.metrics import accuracy_score, confusion_matrix, f1_score\n",
        "import sklearn.model_selection as model_selection\n",
        "from sklearn.tree import DecisionTreeClassifier  \n",
        "from sklearn import metrics"
      ]
    },
    {
      "cell_type": "markdown",
      "metadata": {
        "id": "mMx3RX7roWRE"
      },
      "source": [
        "# PART I"
      ]
    },
    {
      "cell_type": "markdown",
      "metadata": {
        "id": "GoswyJMsoWRF"
      },
      "source": [
        "## Prepare Data"
      ]
    },
    {
      "cell_type": "markdown",
      "metadata": {
        "id": "egy6yqDIoWRG"
      },
      "source": [
        "Use the data set provided below, prepare data in a csv file <i>data.csv</i> and write your code to read data into an object. The first line of the file should have headers."
      ]
    },
    {
      "cell_type": "markdown",
      "metadata": {
        "id": "wjg5soxloWRH"
      },
      "source": [
        "![image.png](attachment:image.png)"
      ]
    },
    {
      "cell_type": "code",
      "execution_count": 2,
      "metadata": {
        "colab": {
          "base_uri": "https://localhost:8080/",
          "height": 0
        },
        "id": "VcDq2HxxoWRH",
        "outputId": "37ff9511-750a-488d-b05f-2daf1e994509"
      },
      "outputs": [
        {
          "output_type": "display_data",
          "data": {
            "text/html": [
              "\n",
              "  <div id=\"df-417d1400-000b-4a0d-92ad-a21b70946aff\">\n",
              "    <div class=\"colab-df-container\">\n",
              "      <div>\n",
              "<style scoped>\n",
              "    .dataframe tbody tr th:only-of-type {\n",
              "        vertical-align: middle;\n",
              "    }\n",
              "\n",
              "    .dataframe tbody tr th {\n",
              "        vertical-align: top;\n",
              "    }\n",
              "\n",
              "    .dataframe thead th {\n",
              "        text-align: right;\n",
              "    }\n",
              "</style>\n",
              "<table border=\"1\" class=\"dataframe\">\n",
              "  <thead>\n",
              "    <tr style=\"text-align: right;\">\n",
              "      <th></th>\n",
              "      <th>Day</th>\n",
              "      <th>Outlook</th>\n",
              "      <th>Temperature</th>\n",
              "      <th>Humidity</th>\n",
              "      <th>Wind</th>\n",
              "      <th>PlayTennis</th>\n",
              "    </tr>\n",
              "  </thead>\n",
              "  <tbody>\n",
              "    <tr>\n",
              "      <th>0</th>\n",
              "      <td>D1</td>\n",
              "      <td>Sunny</td>\n",
              "      <td>Hot</td>\n",
              "      <td>High</td>\n",
              "      <td>Weak</td>\n",
              "      <td>No</td>\n",
              "    </tr>\n",
              "    <tr>\n",
              "      <th>1</th>\n",
              "      <td>D2</td>\n",
              "      <td>Sunny</td>\n",
              "      <td>Hot</td>\n",
              "      <td>High</td>\n",
              "      <td>Strong</td>\n",
              "      <td>No</td>\n",
              "    </tr>\n",
              "    <tr>\n",
              "      <th>2</th>\n",
              "      <td>D3</td>\n",
              "      <td>Overcast</td>\n",
              "      <td>Hot</td>\n",
              "      <td>High</td>\n",
              "      <td>Weak</td>\n",
              "      <td>Yes</td>\n",
              "    </tr>\n",
              "    <tr>\n",
              "      <th>3</th>\n",
              "      <td>D4</td>\n",
              "      <td>Rain</td>\n",
              "      <td>Mild</td>\n",
              "      <td>High</td>\n",
              "      <td>Weak</td>\n",
              "      <td>Yes</td>\n",
              "    </tr>\n",
              "    <tr>\n",
              "      <th>4</th>\n",
              "      <td>D5</td>\n",
              "      <td>Rain</td>\n",
              "      <td>Cool</td>\n",
              "      <td>Normal</td>\n",
              "      <td>Weak</td>\n",
              "      <td>Yes</td>\n",
              "    </tr>\n",
              "    <tr>\n",
              "      <th>5</th>\n",
              "      <td>D6</td>\n",
              "      <td>Rain</td>\n",
              "      <td>Cool</td>\n",
              "      <td>Normal</td>\n",
              "      <td>Strong</td>\n",
              "      <td>No</td>\n",
              "    </tr>\n",
              "    <tr>\n",
              "      <th>6</th>\n",
              "      <td>D7</td>\n",
              "      <td>Overcast</td>\n",
              "      <td>Cool</td>\n",
              "      <td>Normal</td>\n",
              "      <td>Strong</td>\n",
              "      <td>Yes</td>\n",
              "    </tr>\n",
              "    <tr>\n",
              "      <th>7</th>\n",
              "      <td>D8</td>\n",
              "      <td>Sunny</td>\n",
              "      <td>Mild</td>\n",
              "      <td>High</td>\n",
              "      <td>Weak</td>\n",
              "      <td>No</td>\n",
              "    </tr>\n",
              "    <tr>\n",
              "      <th>8</th>\n",
              "      <td>D9</td>\n",
              "      <td>Sunny</td>\n",
              "      <td>Cool</td>\n",
              "      <td>Normal</td>\n",
              "      <td>Weak</td>\n",
              "      <td>Yes</td>\n",
              "    </tr>\n",
              "    <tr>\n",
              "      <th>9</th>\n",
              "      <td>D10</td>\n",
              "      <td>Rain</td>\n",
              "      <td>Cool</td>\n",
              "      <td>Normal</td>\n",
              "      <td>Weak</td>\n",
              "      <td>Yes</td>\n",
              "    </tr>\n",
              "    <tr>\n",
              "      <th>10</th>\n",
              "      <td>D11</td>\n",
              "      <td>Sunny</td>\n",
              "      <td>Mild</td>\n",
              "      <td>Normal</td>\n",
              "      <td>Strong</td>\n",
              "      <td>Yes</td>\n",
              "    </tr>\n",
              "    <tr>\n",
              "      <th>11</th>\n",
              "      <td>D12</td>\n",
              "      <td>Overcast</td>\n",
              "      <td>Mild</td>\n",
              "      <td>High</td>\n",
              "      <td>Strong</td>\n",
              "      <td>Yes</td>\n",
              "    </tr>\n",
              "    <tr>\n",
              "      <th>12</th>\n",
              "      <td>D13</td>\n",
              "      <td>Overcast</td>\n",
              "      <td>Hot</td>\n",
              "      <td>Normal</td>\n",
              "      <td>Weak</td>\n",
              "      <td>Yes</td>\n",
              "    </tr>\n",
              "    <tr>\n",
              "      <th>13</th>\n",
              "      <td>D14</td>\n",
              "      <td>Rain</td>\n",
              "      <td>Mild</td>\n",
              "      <td>High</td>\n",
              "      <td>Strong</td>\n",
              "      <td>No</td>\n",
              "    </tr>\n",
              "  </tbody>\n",
              "</table>\n",
              "</div>\n",
              "      <button class=\"colab-df-convert\" onclick=\"convertToInteractive('df-417d1400-000b-4a0d-92ad-a21b70946aff')\"\n",
              "              title=\"Convert this dataframe to an interactive table.\"\n",
              "              style=\"display:none;\">\n",
              "        \n",
              "  <svg xmlns=\"http://www.w3.org/2000/svg\" height=\"24px\"viewBox=\"0 0 24 24\"\n",
              "       width=\"24px\">\n",
              "    <path d=\"M0 0h24v24H0V0z\" fill=\"none\"/>\n",
              "    <path d=\"M18.56 5.44l.94 2.06.94-2.06 2.06-.94-2.06-.94-.94-2.06-.94 2.06-2.06.94zm-11 1L8.5 8.5l.94-2.06 2.06-.94-2.06-.94L8.5 2.5l-.94 2.06-2.06.94zm10 10l.94 2.06.94-2.06 2.06-.94-2.06-.94-.94-2.06-.94 2.06-2.06.94z\"/><path d=\"M17.41 7.96l-1.37-1.37c-.4-.4-.92-.59-1.43-.59-.52 0-1.04.2-1.43.59L10.3 9.45l-7.72 7.72c-.78.78-.78 2.05 0 2.83L4 21.41c.39.39.9.59 1.41.59.51 0 1.02-.2 1.41-.59l7.78-7.78 2.81-2.81c.8-.78.8-2.07 0-2.86zM5.41 20L4 18.59l7.72-7.72 1.47 1.35L5.41 20z\"/>\n",
              "  </svg>\n",
              "      </button>\n",
              "      \n",
              "  <style>\n",
              "    .colab-df-container {\n",
              "      display:flex;\n",
              "      flex-wrap:wrap;\n",
              "      gap: 12px;\n",
              "    }\n",
              "\n",
              "    .colab-df-convert {\n",
              "      background-color: #E8F0FE;\n",
              "      border: none;\n",
              "      border-radius: 50%;\n",
              "      cursor: pointer;\n",
              "      display: none;\n",
              "      fill: #1967D2;\n",
              "      height: 32px;\n",
              "      padding: 0 0 0 0;\n",
              "      width: 32px;\n",
              "    }\n",
              "\n",
              "    .colab-df-convert:hover {\n",
              "      background-color: #E2EBFA;\n",
              "      box-shadow: 0px 1px 2px rgba(60, 64, 67, 0.3), 0px 1px 3px 1px rgba(60, 64, 67, 0.15);\n",
              "      fill: #174EA6;\n",
              "    }\n",
              "\n",
              "    [theme=dark] .colab-df-convert {\n",
              "      background-color: #3B4455;\n",
              "      fill: #D2E3FC;\n",
              "    }\n",
              "\n",
              "    [theme=dark] .colab-df-convert:hover {\n",
              "      background-color: #434B5C;\n",
              "      box-shadow: 0px 1px 3px 1px rgba(0, 0, 0, 0.15);\n",
              "      filter: drop-shadow(0px 1px 2px rgba(0, 0, 0, 0.3));\n",
              "      fill: #FFFFFF;\n",
              "    }\n",
              "  </style>\n",
              "\n",
              "      <script>\n",
              "        const buttonEl =\n",
              "          document.querySelector('#df-417d1400-000b-4a0d-92ad-a21b70946aff button.colab-df-convert');\n",
              "        buttonEl.style.display =\n",
              "          google.colab.kernel.accessAllowed ? 'block' : 'none';\n",
              "\n",
              "        async function convertToInteractive(key) {\n",
              "          const element = document.querySelector('#df-417d1400-000b-4a0d-92ad-a21b70946aff');\n",
              "          const dataTable =\n",
              "            await google.colab.kernel.invokeFunction('convertToInteractive',\n",
              "                                                     [key], {});\n",
              "          if (!dataTable) return;\n",
              "\n",
              "          const docLinkHtml = 'Like what you see? Visit the ' +\n",
              "            '<a target=\"_blank\" href=https://colab.research.google.com/notebooks/data_table.ipynb>data table notebook</a>'\n",
              "            + ' to learn more about interactive tables.';\n",
              "          element.innerHTML = '';\n",
              "          dataTable['output_type'] = 'display_data';\n",
              "          await google.colab.output.renderOutput(dataTable, element);\n",
              "          const docLink = document.createElement('div');\n",
              "          docLink.innerHTML = docLinkHtml;\n",
              "          element.appendChild(docLink);\n",
              "        }\n",
              "      </script>\n",
              "    </div>\n",
              "  </div>\n",
              "  "
            ],
            "text/plain": [
              "    Day   Outlook Temperature Humidity    Wind PlayTennis\n",
              "0    D1     Sunny         Hot     High    Weak         No\n",
              "1    D2     Sunny         Hot     High  Strong         No\n",
              "2    D3  Overcast         Hot     High    Weak        Yes\n",
              "3    D4      Rain        Mild     High    Weak        Yes\n",
              "4    D5      Rain        Cool   Normal    Weak        Yes\n",
              "5    D6      Rain        Cool   Normal  Strong         No\n",
              "6    D7  Overcast        Cool   Normal  Strong        Yes\n",
              "7    D8     Sunny        Mild     High    Weak         No\n",
              "8    D9     Sunny        Cool   Normal    Weak        Yes\n",
              "9   D10      Rain        Cool   Normal    Weak        Yes\n",
              "10  D11     Sunny        Mild   Normal  Strong        Yes\n",
              "11  D12  Overcast        Mild     High  Strong        Yes\n",
              "12  D13  Overcast         Hot   Normal    Weak        Yes\n",
              "13  D14      Rain        Mild     High  Strong         No"
            ]
          },
          "metadata": {}
        }
      ],
      "source": [
        "data = pd.read_csv(\"./data.csv\")\n",
        "display(data)"
      ]
    },
    {
      "cell_type": "markdown",
      "metadata": {
        "id": "bhEccp-ZoWRI"
      },
      "source": [
        "<b>Implement part of the ID3 algorithm to generate a decision tree.</b><br>\n",
        "Write a function <i>findChild(...)</i> which takes inputs of a data set, a parent (Attribute=Value), and an attribute to be checked as a child. The function prints calculations using the following format.<br>\n",
        "Add comments for each section of your code such as \"parent node statistics\", \"parent node entropy\", \"ith check of the parent\", \"ith check's condition\", \"child node statistics\", \"child node entropy\", \"children's average entropy\", \"information Gain\", \"best condition\", etc."
      ]
    },
    {
      "cell_type": "markdown",
      "metadata": {
        "id": "zbAGNuNvoWRJ"
      },
      "source": [
        "<b>Print calculations using the following format.</b><br>As an example, assume the parent is (A=a1) and the child attribute to be checked is B; assume the condition (B=b1) is to be checked at the ith check.<br>\n",
        "PARENT (A=a1)<br>\n",
        ">       numData:  .....                                               #Number of data points (feature vectors)\n",
        "      nPos: ....., nNeg: .......                 #Number of data points for each class of positive and negative\n",
        "      Entropy:\n",
        "    Check-i: (B=b1)\n",
        "      numLeft: ....., numRight: ..... #Number of data points at the left node (B=b1) and the right node (B != b1)\n",
        "      nLeftPos: ....., nLeftNeg: .....                   #Number of data points for each class at the left node\n",
        "      nRightPos: ....., nRightNeg: .....                #Number of data points for each class at the right node\n",
        "      EntropyLeft: ....., EntropyRight: .....\n",
        "      WAE: .....                                                                      #Weighted average entropy\n",
        "      Information Gain: ..... \n",
        "    Best condition ID: ..., condition: (... = ...)                                           #(Attribute=Value)\n",
        "        "
      ]
    },
    {
      "cell_type": "code",
      "execution_count": 3,
      "metadata": {
        "id": "4teU9P8moWRK"
      },
      "outputs": [],
      "source": [
        "def entropy(targets):  \n",
        "    cats,counts = np.unique(targets,return_counts = True)  \n",
        "    cat_counts = zip(cats, counts)\n",
        "    entropy = np.sum([(-count/np.sum(counts))*np.log2(count/np.sum(counts)) for (cat, count) in cat_counts])  \n",
        "    return entropy\n",
        "\n",
        "def get_split(ds, target):\n",
        "  grouped = ds.groupby(target).size()\n",
        "  if 1 in grouped.index:\n",
        "      pos = grouped[1]\n",
        "  else:\n",
        "      pos = 0\n",
        "  \n",
        "  if 0 in grouped.index:\n",
        "      neg = grouped[0]\n",
        "  else:\n",
        "      neg = 0\n",
        "  return pos, neg\n",
        "\n",
        "def print_values(dataset, non_dataset, parent, target, ent, indentation):\n",
        "  if indentation == 1:\n",
        "      indent = \"    \"\n",
        "  else:\n",
        "      indent = \"        \"\n",
        "  print(\"{}numLeft\".format(indent), len(dataset), \"numRight\", len(non_dataset)) \n",
        "\n",
        "  nl_pos, nl_neg = get_split(dataset, target)\n",
        "  nr_pos, nr_neg = get_split(non_dataset, target)\n",
        "\n",
        "  print(\"{}nLeftPos\".format(indent), nl_pos, \"nLeftNeg\", nl_neg) \n",
        "  print(\"{}nRightPos\".format(indent), nr_pos, \"nRightNeg\", nr_neg)\n",
        "\n",
        "  total_len = len(dataset) + len(non_dataset)\n",
        "  left_ent = entropy(dataset[target])\n",
        "  right_ent = entropy(non_dataset[target])\n",
        "  print(\"{}EntropyLeft\".format(indent), left_ent, \"EntropyRight\", right_ent)\n",
        "\n",
        "  wae = (left_ent*len(dataset) + right_ent*len(non_dataset))/total_len \n",
        "  info_gain = ent - wae\n",
        "  print(\"{}WAE: \".format(indent), wae)\n",
        "  print(\"{}Information Gain: \".format(indent), info_gain)\n",
        "  return info_gain\n",
        "              \n",
        "#This function will traverse from the parent node through the specified child node\n",
        "def findChild(data_set, parent, child, target):\n",
        "  #parent stats\n",
        "  num_data = len(data_set)\n",
        "  n_pos = data_set.groupby(target).size()[1]\n",
        "  n_neg = data_set.groupby(target).size()[0]\n",
        "\n",
        "  print(\"numData: \", num_data)\n",
        "  print(\"nPos: \", n_pos, \", nNeg: \", n_neg)\n",
        "\n",
        "  ent = entropy(data_set.PlayTennis)\n",
        "  print(\"Entropy:\", ent)\n",
        "  \n",
        "  #first split across the parent node\n",
        "  max_gain = 0\n",
        "  for value in np.unique(data_set[parent]):\n",
        "      print(\"Check Parent: \", parent, \" = \", value)\n",
        "      sub_data = data.where(data[parent] == value).dropna()\n",
        "      non_data = data.where(data[parent] != value).dropna() \n",
        "      print_values(sub_data, non_data, parent, target, ent, 1)\n",
        "\n",
        "      #check child for left (sub_data) and right (non_data)\n",
        "      features = pd.DataFrame(columns = [\"Name\", \"Score\"])\n",
        "      for child_value in np.unique(sub_data[child]):\n",
        "          print(\"    Check Child: \", child, \" = \", child_value, \" of parent = \", value)\n",
        "          sub_data_left = sub_data.where(sub_data[child] == child_value).dropna()\n",
        "          non_data_left = sub_data.where(sub_data[child] != child_value).dropna() \n",
        "          score = print_values(sub_data_left, non_data_left, child, target, ent, 2)\n",
        "          features = features.append({'Name' : child_value, 'Score' : score}, ignore_index = True)\n",
        "      \n",
        "      best_feature = features.iloc[features.Score.idxmax()].Name\n",
        "      best_score = features.iloc[features.Score.idxmax()].Score\n",
        "      if best_score > max_gain:\n",
        "          max_gain = best_score\n",
        "      print(\"    Best Feature:\", child, \"=\", best_feature, \"for parent\", parent, \"=\", value)\n",
        "  return max_gain\n",
        "  \n"
      ]
    },
    {
      "cell_type": "markdown",
      "metadata": {
        "id": "xgqcZ_tPoWRK"
      },
      "source": [
        "## Test The Code"
      ]
    },
    {
      "cell_type": "markdown",
      "metadata": {
        "collapsed": true,
        "id": "ysQ0ZtlXoWRK"
      },
      "source": [
        "<b>Finding the first parent node.</b><br>\n",
        "Start with the attribute \"Wind\" as the parent node. Calculate the parent node DT values.<br><br>\n",
        "<b>Searching for a child node</b><br>\n",
        "Consider attributes of \"Outlook\" and \"Temperature\"; determine which one would be the best as a child node."
      ]
    },
    {
      "cell_type": "code",
      "execution_count": 4,
      "metadata": {
        "colab": {
          "base_uri": "https://localhost:8080/"
        },
        "id": "wkP3jXUmoWRL",
        "outputId": "659213cb-64e3-4032-9737-0fba4a1e0024"
      },
      "outputs": [
        {
          "output_type": "stream",
          "name": "stdout",
          "text": [
            "numData:  14\n",
            "nPos:  9 , nNeg:  5\n",
            "Entropy: 0.9402859586706309\n",
            "Check Parent:  Wind  =  Strong\n",
            "    numLeft 6 numRight 8\n",
            "    nLeftPos 3 nLeftNeg 3\n",
            "    nRightPos 6 nRightNeg 2\n",
            "    EntropyLeft 1.0 EntropyRight 0.8112781244591328\n",
            "    WAE:  0.8921589282623617\n",
            "    Information Gain:  0.04812703040826927\n",
            "    Check Child:  Outlook  =  Overcast  of parent =  Strong\n",
            "        numLeft 2 numRight 4\n",
            "        nLeftPos 2 nLeftNeg 0\n",
            "        nRightPos 1 nRightNeg 3\n",
            "        EntropyLeft 0.0 EntropyRight 0.8112781244591328\n",
            "        WAE:  0.5408520829727552\n",
            "        Information Gain:  0.3994338756978757\n",
            "    Check Child:  Outlook  =  Rain  of parent =  Strong\n",
            "        numLeft 2 numRight 4\n",
            "        nLeftPos 0 nLeftNeg 2\n",
            "        nRightPos 3 nRightNeg 1\n",
            "        EntropyLeft 0.0 EntropyRight 0.8112781244591328\n",
            "        WAE:  0.5408520829727552\n",
            "        Information Gain:  0.3994338756978757\n",
            "    Check Child:  Outlook  =  Sunny  of parent =  Strong\n",
            "        numLeft 2 numRight 4\n",
            "        nLeftPos 1 nLeftNeg 1\n",
            "        nRightPos 2 nRightNeg 2\n",
            "        EntropyLeft 1.0 EntropyRight 1.0\n",
            "        WAE:  1.0\n",
            "        Information Gain:  -0.05971404132936908\n",
            "    Best Feature: Outlook = Overcast for parent Wind = Strong\n",
            "Check Parent:  Wind  =  Weak\n",
            "    numLeft 8 numRight 6\n",
            "    nLeftPos 6 nLeftNeg 2\n",
            "    nRightPos 3 nRightNeg 3\n",
            "    EntropyLeft 0.8112781244591328 EntropyRight 1.0\n",
            "    WAE:  0.8921589282623617\n",
            "    Information Gain:  0.04812703040826927\n",
            "    Check Child:  Outlook  =  Overcast  of parent =  Weak\n",
            "        numLeft 2 numRight 6\n",
            "        nLeftPos 2 nLeftNeg 0\n",
            "        nRightPos 4 nRightNeg 2\n",
            "        EntropyLeft 0.0 EntropyRight 0.9182958340544896\n",
            "        WAE:  0.6887218755408672\n",
            "        Information Gain:  0.25156408312976375\n",
            "    Check Child:  Outlook  =  Rain  of parent =  Weak\n",
            "        numLeft 3 numRight 5\n",
            "        nLeftPos 3 nLeftNeg 0\n",
            "        nRightPos 3 nRightNeg 2\n",
            "        EntropyLeft 0.0 EntropyRight 0.9709505944546686\n",
            "        WAE:  0.6068441215341679\n",
            "        Information Gain:  0.333441837136463\n",
            "    Check Child:  Outlook  =  Sunny  of parent =  Weak\n",
            "        numLeft 3 numRight 5\n",
            "        nLeftPos 1 nLeftNeg 2\n",
            "        nRightPos 5 nRightNeg 0\n",
            "        EntropyLeft 0.9182958340544896 EntropyRight 0.0\n",
            "        WAE:  0.3443609377704336\n",
            "        Information Gain:  0.5959250209001974\n",
            "    Best Feature: Outlook = Sunny for parent Wind = Weak\n",
            "numData:  14\n",
            "nPos:  9 , nNeg:  5\n",
            "Entropy: 0.9402859586706309\n",
            "Check Parent:  Wind  =  Strong\n",
            "    numLeft 6 numRight 8\n",
            "    nLeftPos 3 nLeftNeg 3\n",
            "    nRightPos 6 nRightNeg 2\n",
            "    EntropyLeft 1.0 EntropyRight 0.8112781244591328\n",
            "    WAE:  0.8921589282623617\n",
            "    Information Gain:  0.04812703040826927\n",
            "    Check Child:  Temperature  =  Cool  of parent =  Strong\n",
            "        numLeft 2 numRight 4\n",
            "        nLeftPos 1 nLeftNeg 1\n",
            "        nRightPos 2 nRightNeg 2\n",
            "        EntropyLeft 1.0 EntropyRight 1.0\n",
            "        WAE:  1.0\n",
            "        Information Gain:  -0.05971404132936908\n",
            "    Check Child:  Temperature  =  Hot  of parent =  Strong\n",
            "        numLeft 1 numRight 5\n",
            "        nLeftPos 0 nLeftNeg 1\n",
            "        nRightPos 3 nRightNeg 2\n",
            "        EntropyLeft 0.0 EntropyRight 0.9709505944546686\n",
            "        WAE:  0.8091254953788906\n",
            "        Information Gain:  0.13116046329174036\n",
            "    Check Child:  Temperature  =  Mild  of parent =  Strong\n",
            "        numLeft 3 numRight 3\n",
            "        nLeftPos 2 nLeftNeg 1\n",
            "        nRightPos 1 nRightNeg 2\n",
            "        EntropyLeft 0.9182958340544896 EntropyRight 0.9182958340544896\n",
            "        WAE:  0.9182958340544896\n",
            "        Information Gain:  0.02199012461614136\n",
            "    Best Feature: Temperature = Hot for parent Wind = Strong\n",
            "Check Parent:  Wind  =  Weak\n",
            "    numLeft 8 numRight 6\n",
            "    nLeftPos 6 nLeftNeg 2\n",
            "    nRightPos 3 nRightNeg 3\n",
            "    EntropyLeft 0.8112781244591328 EntropyRight 1.0\n",
            "    WAE:  0.8921589282623617\n",
            "    Information Gain:  0.04812703040826927\n",
            "    Check Child:  Temperature  =  Cool  of parent =  Weak\n",
            "        numLeft 3 numRight 5\n",
            "        nLeftPos 3 nLeftNeg 0\n",
            "        nRightPos 3 nRightNeg 2\n",
            "        EntropyLeft 0.0 EntropyRight 0.9709505944546686\n",
            "        WAE:  0.6068441215341679\n",
            "        Information Gain:  0.333441837136463\n",
            "    Check Child:  Temperature  =  Hot  of parent =  Weak\n",
            "        numLeft 3 numRight 5\n",
            "        nLeftPos 2 nLeftNeg 1\n",
            "        nRightPos 4 nRightNeg 1\n",
            "        EntropyLeft 0.9182958340544896 EntropyRight 0.7219280948873623\n",
            "        WAE:  0.7955659970750351\n",
            "        Information Gain:  0.14471996159559586\n",
            "    Check Child:  Temperature  =  Mild  of parent =  Weak\n",
            "        numLeft 2 numRight 6\n",
            "        nLeftPos 1 nLeftNeg 1\n",
            "        nRightPos 5 nRightNeg 1\n",
            "        EntropyLeft 1.0 EntropyRight 0.6500224216483541\n",
            "        WAE:  0.7375168162362655\n",
            "        Information Gain:  0.2027691424343654\n",
            "    Best Feature: Temperature = Cool for parent Wind = Weak\n",
            "Best Selection is Outlook! Info Gain was better than Temperature by: 0.26248318376373436\n"
          ]
        }
      ],
      "source": [
        "lb = preprocessing.LabelBinarizer()\n",
        "data.PlayTennis = lb.fit_transform(data.PlayTennis)\n",
        "\n",
        "parent = \"Wind\"\n",
        "\n",
        "outlook_max = findChild(data, parent, \"Outlook\", \"PlayTennis\")\n",
        "\n",
        "temp_max = findChild(data, parent, \"Temperature\", \"PlayTennis\")\n",
        "\n",
        "if outlook_max > temp_max:\n",
        "  print(\"Best Selection is Outlook! Info Gain was better than Temperature by:\", outlook_max - temp_max)\n",
        "elif temp_max > outlook_max:\n",
        "  print(\"Best Selection is Temperature! Info Gain was better than Outlook by:\", temp_max - outlook_max)\n",
        "else:\n",
        "  print(\"The best achieved information gain for Outlook and Temperature was equivalent. Both are good choices!\")\n"
      ]
    },
    {
      "cell_type": "markdown",
      "metadata": {
        "id": "-J09IhhRX-kL"
      },
      "source": [
        "It is clear from the output of findChild that the best selection between Temperature and Outlook is Outlook. This is decide because the maximum achieved information gain of Outlook 0.596 and the maximum for Temperature was only 0.333. This means selection of Outlook as the next feature leads to a better division of the tree."
      ]
    },
    {
      "cell_type": "markdown",
      "metadata": {
        "id": "xyQjYhM-oWRM"
      },
      "source": [
        "# PART II"
      ]
    },
    {
      "cell_type": "markdown",
      "metadata": {
        "id": "b0Z5K1-boWRM"
      },
      "source": [
        "<b>Generate a decision tree by means of a Python library</b>\n",
        "- Use 70% of the data for training and 30% for testing.\n",
        "- Compare performance of the model based on “gini” and “entropy” measures. As a performance measure use sensitivity, specificity, AUC, and F1-score\n",
        "- Plot performance measures on a single figure for “gini” and “entropy”. Group by performance measures."
      ]
    },
    {
      "cell_type": "code",
      "execution_count": 5,
      "metadata": {
        "colab": {
          "base_uri": "https://localhost:8080/",
          "height": 351
        },
        "id": "AQCIr80QpqVl",
        "outputId": "5f4611dd-c447-4f9c-859c-0d2da278c2ba"
      },
      "outputs": [
        {
          "output_type": "stream",
          "name": "stdout",
          "text": [
            "Entropy Measures: \n",
            "GINI Measures: \n"
          ]
        },
        {
          "output_type": "display_data",
          "data": {
            "image/png": "[encoded data removed]",
            "text/plain": [
              "<Figure size 432x288 with 1 Axes>"
            ]
          },
          "metadata": {
            "needs_background": "light"
          }
        },
        {
          "output_type": "stream",
          "name": "stdout",
          "text": [
            "Essentially, whether you choose to use the decision tree classifier with entropy or gini\n",
            "the performance will be roughly the same.\n"
          ]
        }
      ],
      "source": [
        "def get_scores(acc, labels, prediction):\n",
        "    f1 = metrics.f1_score(labels, prediction)\n",
        "    conf_matrix = metrics.confusion_matrix(labels, prediction)\n",
        "    sens = conf_matrix[0,0]/(conf_matrix[0,0]+conf_matrix[0,1])\n",
        "    spec = conf_matrix[1,1]/(conf_matrix[1,0]+conf_matrix[1,1])\n",
        "    auc = metrics.roc_auc_score(labels, prediction)\n",
        "    return sens, spec, f1, auc, acc\n",
        "\n",
        "def add_plots(f1, sens, spec, auc, title):\n",
        "  plt.bar(1, sens, label=\"{} Sensitivity\".format(title))\n",
        "  plt.bar(2, spec, label=\"{} Specificity\".format(title))\n",
        "  plt.bar(3, auc, label=\"{} AUC\".format(title))\n",
        "  plt.bar(4, f1, label=\"{} F1\".format(title))\n",
        "\n",
        "samples = data.drop([\"PlayTennis\", \"Day\"], axis=1)\n",
        "labels = data.PlayTennis\n",
        "\n",
        "#DecisionTreeClassifier works on numeric only, need to encode\n",
        "for cat in samples.columns:\n",
        "  le = preprocessing.LabelEncoder()\n",
        "  samples[cat] = le.fit_transform(samples[cat].values)\n",
        "\n",
        "X_train, X_test, y_train, y_test = model_selection.train_test_split(samples, labels, train_size=0.70,test_size=0.30, random_state=42)\n",
        "\n",
        "print(\"Entropy Measures: \") \n",
        "tree = DecisionTreeClassifier(criterion = 'entropy').fit(X_train, y_train)  \n",
        "prediction = tree.predict(X_test)   \n",
        "acc = tree.score(X_test, y_test)\n",
        "sens, spec, f1, AUC, acc = get_scores(acc, y_test, prediction)\n",
        "e_values = [sens, spec, f1, AUC, acc]\n",
        "\n",
        "print(\"GINI Measures: \")\n",
        "tree = DecisionTreeClassifier(criterion = 'gini').fit(X_train, y_train)  \n",
        "prediction = tree.predict(X_test)  \n",
        "acc = tree.score(X_test, y_test)\n",
        "sens, spec, f1, AUC, acc = get_scores(acc, y_test, prediction)\n",
        "g_values = [sens, spec, f1, AUC, acc]\n",
        "\n",
        "labels = [\"Sensitivity\", \"Specificity\", \"F1\", \"AUC\", \"Accuracy\"]\n",
        "plt.title(\"Performance Measures\")\n",
        "width =0.3\n",
        "plt.xticks(range(len(labels)), labels)\n",
        "plt.bar(np.arange(len(g_values)), g_values, width=width, label=\"GINI\")\n",
        "plt.bar(np.arange(len(e_values)) + width, e_values, width=width, label=\"Entropy\")\n",
        "plt.legend()\n",
        "plt.show()\n",
        "\n",
        "print(\"Essentially, whether you choose to use the decision tree classifier with entropy or gini\")\n",
        "print(\"the performance will be roughly the same.\")"
      ]
    },
    {
      "cell_type": "markdown",
      "metadata": {
        "collapsed": true,
        "id": "q6rrviqHoWRN"
      },
      "source": [
        "## <center> REFERENCES </center>\n",
        "List resources (book, internet page, etc.) that you used to complete this challenge."
      ]
    },
    {
      "cell_type": "markdown",
      "metadata": {
        "id": "PRgbX6p6oWRN"
      },
      "source": [
        "https://pythonbasics.org/matplotlib-bar-chart/\n",
        "https://www.statology.org/auc-in-python/\n",
        "https://gist.github.com/jaradc/eeddf20932c0347928d0da5a09298147#:~:text=Four%20different%20ways%20to%20calculate%20entropy%20in%20Python,%28%20labels%2C%20return_counts%3DTrue%29%20return%20entropy%20%28%20counts%2C%20base%3Dbase%29"
      ]
    }
  ],
  "metadata": {
    "colab": {
      "collapsed_sections": [
        "mMx3RX7roWRE"
      ],
      "name": "C2.ipynb",
      "provenance": []
    },
    "kernelspec": {
      "display_name": "Python 3 (ipykernel)",
      "language": "python",
      "name": "python3"
    },
    "language_info": {
      "codemirror_mode": {
        "name": "ipython",
        "version": 3
      },
      "file_extension": ".py",
      "mimetype": "text/x-python",
      "name": "python",
      "nbconvert_exporter": "python",
      "pygments_lexer": "ipython3",
      "version": "3.8.12"
    }
  },
  "nbformat": 4,
  "nbformat_minor": 0
}