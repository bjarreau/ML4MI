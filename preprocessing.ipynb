{
 "cells": [
  {
   "cell_type": "code",
   "execution_count": null,
   "id": "8a88e5c7",
   "metadata": {},
   "outputs": [],
   "source": [
    "data = pd.read_csv(\"./Acoustic_Probing.csv\")\n",
    "data = data.drop([\"ID\", \"Trial\"], axis=1)\n",
    "data = data.drop(data.loc[:, data.nunique() == 1], axis=1)\n",
    "\n",
    "#When the csv reads in, it detects an extra row of NaN\n",
    "data = data.dropna()\n",
    "\n",
    "le = preprocessing.LabelEncoder()\n",
    "data[\"Label\"] = le.fit_transform(data[\"Label\"].values)\n",
    "\n",
    "display(data)"
   ]
  }
 ],
 "metadata": {
  "kernelspec": {
   "display_name": "Python 3 (ipykernel)",
   "language": "python",
   "name": "python3"
  },
  "language_info": {
   "codemirror_mode": {
    "name": "ipython",
    "version": 3
   },
   "file_extension": ".py",
   "mimetype": "text/x-python",
   "name": "python",
   "nbconvert_exporter": "python",
   "pygments_lexer": "ipython3",
   "version": "3.8.12"
  }
 },
 "nbformat": 4,
 "nbformat_minor": 5
}
