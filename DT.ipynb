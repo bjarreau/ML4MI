{
  "cells": [
    {
      "cell_type": "markdown",
      "metadata": {
        "id": "pfZeaG-_oWQ6"
      },
      "source": [
        "# <center>Decision Tree<center>"
      ]
    },
    {
      "cell_type": "markdown",
      "metadata": {
        "id": "jGzXK2osoWQ_"
      },
      "source": [
        "<p>Team Name:  B.C.\n",
        "<p>Student Names: Brittney Jarreau, Caleb Charpentier, Leanne Nicholas\n",
        "<p>Student W#s: 0455857, 0650629, 0670945"
      ]
    },
    {
      "cell_type": "markdown",
      "metadata": {
        "collapsed": true,
        "id": "Z4bcQQWXoWRC"
      },
      "source": [
        "## Imports"
      ]
    },
    {
      "cell_type": "code",
      "execution_count": null,
      "metadata": {
        "collapsed": true,
        "id": "9sJ67vC1oWRD"
      },
      "outputs": [],
      "source": [
        "import numpy as np\n",
        "import pandas as pd\n",
        "import math\n",
        "import matplotlib\n",
        "import matplotlib.pyplot as plt\n",
        "from sklearn import preprocessing\n",
        "from sklearn.neighbors import KNeighborsRegressor\n",
        "from collections import Counter\n",
        "from sklearn.metrics import accuracy_score, confusion_matrix, f1_score\n",
        "import sklearn.model_selection as model_selection\n",
        "from sklearn.tree import DecisionTreeClassifier  \n",
        "from sklearn import metrics"
      ]
    },
    {
      "cell_type": "markdown",
      "metadata": {
        "id": "mMx3RX7roWRE"
      },
      "source": [
        "# PART I"
      ]
    },
    {
      "cell_type": "markdown",
      "metadata": {
        "id": "GoswyJMsoWRF"
      },
      "source": [
        "## Prepare Data"
      ]
    },
    {
      "cell_type": "code",
      "execution_count": 1,
      "metadata": {
        "colab": {
          "base_uri": "https://localhost:8080/",
          "height": 183
        },
        "id": "VcDq2HxxoWRH",
        "outputId": "dcec9b40-e4c9-429a-eb0a-7877d177536f"
      },
      "outputs": [
        {
          "output_type": "error",
          "ename": "NameError",
          "evalue": "ignored",
          "traceback": [
            "\u001b[0;31m---------------------------------------------------------------------------\u001b[0m",
            "\u001b[0;31mNameError\u001b[0m                                 Traceback (most recent call last)",
            "\u001b[0;32m<ipython-input-1-28056cfa4163>\u001b[0m in \u001b[0;36m<module>\u001b[0;34m()\u001b[0m\n\u001b[0;32m----> 1\u001b[0;31m \u001b[0mdata\u001b[0m \u001b[0;34m=\u001b[0m \u001b[0mpd\u001b[0m\u001b[0;34m.\u001b[0m\u001b[0mread_csv\u001b[0m\u001b[0;34m(\u001b[0m\u001b[0;34m\"./data.csv\"\u001b[0m\u001b[0;34m)\u001b[0m\u001b[0;34m\u001b[0m\u001b[0;34m\u001b[0m\u001b[0m\n\u001b[0m\u001b[1;32m      2\u001b[0m \u001b[0mdisplay\u001b[0m\u001b[0;34m(\u001b[0m\u001b[0mdata\u001b[0m\u001b[0;34m)\u001b[0m\u001b[0;34m\u001b[0m\u001b[0;34m\u001b[0m\u001b[0m\n",
            "\u001b[0;31mNameError\u001b[0m: name 'pd' is not defined"
          ]
        }
      ],
      "source": [
        "data = pd.read_csv(\"./Acoustic_Probing.csv\")\n",
        "data = data.drop([\"Trial\"], axis=1)\n",
        "display(data)\n",
        "\n",
        "samples = data.drop([\"Label\", \"Trial\", \"\"], axis=1)\n",
        "labels = data.Label"
      ]
    },
    {
      "cell_type": "markdown",
      "metadata": {
        "id": "b0Z5K1-boWRM"
      },
      "source": [
        "<b>Generate a decision tree by means of a Python library</b>\n",
        "- Use 70% of the data for training and 30% for testing.\n",
        "- Compare performance of the model based on “gini” and “entropy” measures. As a performance measure use sensitivity, specificity, AUC, and F1-score\n",
        "- Plot performance measures on a single figure for “gini” and “entropy”. Group by performance measures."
      ]
    },
    {
      "cell_type": "code",
      "execution_count": null,
      "metadata": {
        "colab": {
          "base_uri": "https://localhost:8080/",
          "height": 351
        },
        "id": "AQCIr80QpqVl",
        "outputId": "5f4611dd-c447-4f9c-859c-0d2da278c2ba"
      },
      "outputs": [
        {
          "output_type": "stream",
          "name": "stdout",
          "text": [
            "Entropy Measures: \n",
            "GINI Measures: \n"
          ]
        },
        {
          "output_type": "display_data",
          "data": {
            "image/png": "[encoded data removed]",
            "text/plain": [
              "<Figure size 432x288 with 1 Axes>"
            ]
          },
          "metadata": {
            "needs_background": "light"
          }
        },
        {
          "output_type": "stream",
          "name": "stdout",
          "text": [
            "Essentially, whether you choose to use the decision tree classifier with entropy or gini\n",
            "the performance will be roughly the same.\n"
          ]
        }
      ],
      "source": [
        "def get_scores(acc, labels, prediction):\n",
        "    f1 = metrics.f1_score(labels, prediction)\n",
        "    conf_matrix = metrics.confusion_matrix(labels, prediction)\n",
        "    sens = conf_matrix[0,0]/(conf_matrix[0,0]+conf_matrix[0,1])\n",
        "    spec = conf_matrix[1,1]/(conf_matrix[1,0]+conf_matrix[1,1])\n",
        "    auc = metrics.roc_auc_score(labels, prediction)\n",
        "    return sens, spec, f1, auc, acc\n",
        "\n",
        "def add_plots(f1, sens, spec, auc, title):\n",
        "  plt.bar(1, sens, label=\"{} Sensitivity\".format(title))\n",
        "  plt.bar(2, spec, label=\"{} Specificity\".format(title))\n",
        "  plt.bar(3, auc, label=\"{} AUC\".format(title))\n",
        "  plt.bar(4, f1, label=\"{} F1\".format(title))\n",
        "\n",
        "#DecisionTreeClassifier works on numeric only, need to encode\n",
        "for cat in samples.columns:\n",
        "  le = preprocessing.LabelEncoder()\n",
        "  samples[cat] = le.fit_transform(samples[cat].values)\n",
        "\n",
        "X_train, X_test, y_train, y_test = model_selection.train_test_split(samples, labels, train_size=0.70,test_size=0.30, random_state=42)\n",
        "\n",
        "print(\"Entropy Measures: \") \n",
        "tree = DecisionTreeClassifier(criterion = 'entropy').fit(X_train, y_train)  \n",
        "prediction = tree.predict(X_test)   \n",
        "acc = tree.score(X_test, y_test)\n",
        "sens, spec, f1, AUC, acc = get_scores(acc, y_test, prediction)\n",
        "e_values = [sens, spec, f1, AUC, acc]\n",
        "\n",
        "print(\"GINI Measures: \")\n",
        "tree = DecisionTreeClassifier(criterion = 'gini').fit(X_train, y_train)  \n",
        "prediction = tree.predict(X_test)  \n",
        "acc = tree.score(X_test, y_test)\n",
        "sens, spec, f1, AUC, acc = get_scores(acc, y_test, prediction)\n",
        "g_values = [sens, spec, f1, AUC, acc]\n",
        "\n",
        "labels = [\"Sensitivity\", \"Specificity\", \"F1\", \"AUC\", \"Accuracy\"]\n",
        "plt.title(\"Performance Measures\")\n",
        "width =0.3\n",
        "plt.xticks(range(len(labels)), labels)\n",
        "plt.bar(np.arange(len(g_values)), g_values, width=width, label=\"GINI\")\n",
        "plt.bar(np.arange(len(e_values)) + width, e_values, width=width, label=\"Entropy\")\n",
        "plt.legend()\n",
        "plt.show()\n",
        "\n",
        "print(\"Essentially, whether you choose to use the decision tree classifier with entropy or gini\")\n",
        "print(\"the performance will be roughly the same.\")"
      ]
    },
    {
      "cell_type": "markdown",
      "metadata": {
        "collapsed": true,
        "id": "q6rrviqHoWRN"
      },
      "source": [
        "## <center> REFERENCES </center>\n",
        "List resources (book, internet page, etc.) that you used to complete this challenge."
      ]
    },
    {
      "cell_type": "markdown",
      "metadata": {
        "id": "PRgbX6p6oWRN"
      },
      "source": [
        "https://pythonbasics.org/matplotlib-bar-chart/\n",
        "https://www.statology.org/auc-in-python/\n",
        "https://gist.github.com/jaradc/eeddf20932c0347928d0da5a09298147#:~:text=Four%20different%20ways%20to%20calculate%20entropy%20in%20Python,%28%20labels%2C%20return_counts%3DTrue%29%20return%20entropy%20%28%20counts%2C%20base%3Dbase%29"
      ]
    }
  ],
  "metadata": {
    "colab": {
      "collapsed_sections": [],
      "name": "DT.ipynb",
      "provenance": []
    },
    "kernelspec": {
      "display_name": "Python 3 (ipykernel)",
      "language": "python",
      "name": "python3"
    },
    "language_info": {
      "codemirror_mode": {
        "name": "ipython",
        "version": 3
      },
      "file_extension": ".py",
      "mimetype": "text/x-python",
      "name": "python",
      "nbconvert_exporter": "python",
      "pygments_lexer": "ipython3",
      "version": "3.8.12"
    }
  },
  "nbformat": 4,
  "nbformat_minor": 0
}