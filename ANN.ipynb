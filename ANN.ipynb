{
 "cells": [
  {
   "cell_type": "code",
   "execution_count": 1,
   "id": "80075234",
   "metadata": {
    "executionInfo": {
     "elapsed": 5370,
     "status": "ok",
     "timestamp": 1651171171647,
     "user": {
      "displayName": "Brittney Jarreau",
      "userId": "03330320210520570799"
     },
     "user_tz": 300
    },
    "id": "80075234"
   },
   "outputs": [],
   "source": [
    "import numpy as np\n",
    "import pandas as pd\n",
    "import tensorflow as tf\n",
    "from tensorflow import keras \n",
    "from sklearn.preprocessing import LabelEncoder\n",
    "from sklearn.preprocessing import StandardScaler\n",
    "import matplotlib.pyplot as plt\n",
    "from sklearn import preprocessing\n",
    "from keras.models import Sequential\n",
    "from keras.layers import Dense, Activation \n",
    "from tensorflow.keras.optimizers import Adam\n",
    "import seaborn as sns"
   ]
  },
  {
   "cell_type": "code",
   "execution_count": 2,
   "id": "5f71ea7e",
   "metadata": {
    "colab": {
     "base_uri": "https://localhost:8080/"
    },
    "executionInfo": {
     "elapsed": 9710,
     "status": "ok",
     "timestamp": 1651171181336,
     "user": {
      "displayName": "Brittney Jarreau",
      "userId": "03330320210520570799"
     },
     "user_tz": 300
    },
    "id": "5f71ea7e",
    "outputId": "53cd8a30-825a-48c1-f8d6-2b5b7cc2883f"
   },
   "outputs": [
    {
     "name": "stdout",
     "output_type": "stream",
     "text": [
      "Model: \"sequential\"\n",
      "_________________________________________________________________\n",
      "Layer (type)                 Output Shape              Param #   \n",
      "=================================================================\n",
      "dense (Dense)                (None, 20)                220       \n",
      "_________________________________________________________________\n",
      "dense_1 (Dense)              (None, 20)                420       \n",
      "_________________________________________________________________\n",
      "dense_2 (Dense)              (None, 2)                 42        \n",
      "=================================================================\n",
      "Total params: 682\n",
      "Trainable params: 682\n",
      "Non-trainable params: 0\n",
      "_________________________________________________________________\n",
      "Epoch 1/100\n",
      "2/2 [==============================] - 0s 103ms/step - loss: 0.4504 - accuracy: 0.9280 - val_loss: 0.4329 - val_accuracy: 0.8889\n",
      "Epoch 2/100\n",
      "2/2 [==============================] - 0s 15ms/step - loss: 0.4404 - accuracy: 0.9280 - val_loss: 0.4218 - val_accuracy: 0.8889\n",
      "Epoch 3/100\n",
      "2/2 [==============================] - 0s 15ms/step - loss: 0.4303 - accuracy: 0.9280 - val_loss: 0.4108 - val_accuracy: 1.0000\n",
      "Epoch 4/100\n",
      "2/2 [==============================] - 0s 14ms/step - loss: 0.4204 - accuracy: 1.0000 - val_loss: 0.4003 - val_accuracy: 1.0000\n",
      "Epoch 5/100\n",
      "2/2 [==============================] - 0s 14ms/step - loss: 0.4109 - accuracy: 1.0000 - val_loss: 0.3900 - val_accuracy: 1.0000\n",
      "Epoch 6/100\n",
      "2/2 [==============================] - 0s 14ms/step - loss: 0.4016 - accuracy: 1.0000 - val_loss: 0.3803 - val_accuracy: 1.0000\n",
      "Epoch 7/100\n",
      "2/2 [==============================] - 0s 16ms/step - loss: 0.3923 - accuracy: 1.0000 - val_loss: 0.3709 - val_accuracy: 1.0000\n",
      "Epoch 8/100\n",
      "2/2 [==============================] - 0s 14ms/step - loss: 0.3834 - accuracy: 1.0000 - val_loss: 0.3620 - val_accuracy: 1.0000\n",
      "Epoch 9/100\n",
      "2/2 [==============================] - 0s 15ms/step - loss: 0.3751 - accuracy: 1.0000 - val_loss: 0.3534 - val_accuracy: 1.0000\n",
      "Epoch 10/100\n",
      "2/2 [==============================] - 0s 12ms/step - loss: 0.3670 - accuracy: 1.0000 - val_loss: 0.3449 - val_accuracy: 1.0000\n",
      "Epoch 11/100\n",
      "2/2 [==============================] - 0s 15ms/step - loss: 0.3588 - accuracy: 1.0000 - val_loss: 0.3366 - val_accuracy: 1.0000\n",
      "Epoch 12/100\n",
      "2/2 [==============================] - 0s 14ms/step - loss: 0.3511 - accuracy: 1.0000 - val_loss: 0.3286 - val_accuracy: 1.0000\n",
      "Epoch 13/100\n",
      "2/2 [==============================] - 0s 10ms/step - loss: 0.3435 - accuracy: 1.0000 - val_loss: 0.3209 - val_accuracy: 1.0000\n",
      "Epoch 14/100\n",
      "2/2 [==============================] - 0s 14ms/step - loss: 0.3362 - accuracy: 1.0000 - val_loss: 0.3135 - val_accuracy: 1.0000\n",
      "Epoch 15/100\n",
      "2/2 [==============================] - 0s 13ms/step - loss: 0.3289 - accuracy: 1.0000 - val_loss: 0.3062 - val_accuracy: 1.0000\n",
      "Epoch 16/100\n",
      "2/2 [==============================] - 0s 17ms/step - loss: 0.3218 - accuracy: 1.0000 - val_loss: 0.2991 - val_accuracy: 1.0000\n",
      "Epoch 17/100\n",
      "2/2 [==============================] - 0s 14ms/step - loss: 0.3148 - accuracy: 1.0000 - val_loss: 0.2921 - val_accuracy: 1.0000\n",
      "Epoch 18/100\n",
      "2/2 [==============================] - 0s 17ms/step - loss: 0.3077 - accuracy: 1.0000 - val_loss: 0.2851 - val_accuracy: 1.0000\n",
      "Epoch 19/100\n",
      "2/2 [==============================] - 0s 11ms/step - loss: 0.3008 - accuracy: 1.0000 - val_loss: 0.2783 - val_accuracy: 1.0000\n",
      "Epoch 20/100\n",
      "2/2 [==============================] - 0s 12ms/step - loss: 0.2937 - accuracy: 1.0000 - val_loss: 0.2716 - val_accuracy: 1.0000\n",
      "Epoch 21/100\n",
      "2/2 [==============================] - 0s 12ms/step - loss: 0.2870 - accuracy: 1.0000 - val_loss: 0.2650 - val_accuracy: 1.0000\n",
      "Epoch 22/100\n",
      "2/2 [==============================] - 0s 15ms/step - loss: 0.2802 - accuracy: 1.0000 - val_loss: 0.2586 - val_accuracy: 1.0000\n",
      "Epoch 23/100\n",
      "2/2 [==============================] - 0s 14ms/step - loss: 0.2737 - accuracy: 1.0000 - val_loss: 0.2524 - val_accuracy: 1.0000\n",
      "Epoch 24/100\n",
      "2/2 [==============================] - 0s 16ms/step - loss: 0.2672 - accuracy: 1.0000 - val_loss: 0.2463 - val_accuracy: 1.0000\n",
      "Epoch 25/100\n",
      "2/2 [==============================] - 0s 15ms/step - loss: 0.2610 - accuracy: 1.0000 - val_loss: 0.2404 - val_accuracy: 1.0000\n",
      "Epoch 26/100\n",
      "2/2 [==============================] - 0s 16ms/step - loss: 0.2549 - accuracy: 1.0000 - val_loss: 0.2347 - val_accuracy: 1.0000\n",
      "Epoch 27/100\n",
      "2/2 [==============================] - 0s 19ms/step - loss: 0.2488 - accuracy: 1.0000 - val_loss: 0.2291 - val_accuracy: 1.0000\n",
      "Epoch 28/100\n",
      "2/2 [==============================] - 0s 17ms/step - loss: 0.2430 - accuracy: 1.0000 - val_loss: 0.2235 - val_accuracy: 1.0000\n",
      "Epoch 29/100\n",
      "2/2 [==============================] - 0s 16ms/step - loss: 0.2371 - accuracy: 1.0000 - val_loss: 0.2180 - val_accuracy: 1.0000\n",
      "Epoch 30/100\n",
      "2/2 [==============================] - ETA: 0s - loss: 0.2119 - accuracy: 1.00 - 0s 16ms/step - loss: 0.2313 - accuracy: 1.0000 - val_loss: 0.2127 - val_accuracy: 1.0000\n",
      "Epoch 31/100\n",
      "2/2 [==============================] - 0s 16ms/step - loss: 0.2258 - accuracy: 1.0000 - val_loss: 0.2074 - val_accuracy: 1.0000\n",
      "Epoch 32/100\n",
      "2/2 [==============================] - 0s 14ms/step - loss: 0.2202 - accuracy: 1.0000 - val_loss: 0.2023 - val_accuracy: 1.0000\n",
      "Epoch 33/100\n",
      "2/2 [==============================] - 0s 16ms/step - loss: 0.2149 - accuracy: 1.0000 - val_loss: 0.1973 - val_accuracy: 1.0000\n",
      "Epoch 34/100\n",
      "2/2 [==============================] - 0s 13ms/step - loss: 0.2097 - accuracy: 1.0000 - val_loss: 0.1923 - val_accuracy: 1.0000\n",
      "Epoch 35/100\n",
      "2/2 [==============================] - 0s 13ms/step - loss: 0.2046 - accuracy: 1.0000 - val_loss: 0.1875 - val_accuracy: 1.0000\n",
      "Epoch 36/100\n",
      "2/2 [==============================] - 0s 11ms/step - loss: 0.1997 - accuracy: 1.0000 - val_loss: 0.1827 - val_accuracy: 1.0000\n",
      "Epoch 37/100\n",
      "2/2 [==============================] - 0s 9ms/step - loss: 0.1947 - accuracy: 1.0000 - val_loss: 0.1781 - val_accuracy: 1.0000\n",
      "Epoch 38/100\n",
      "2/2 [==============================] - 0s 10ms/step - loss: 0.1899 - accuracy: 1.0000 - val_loss: 0.1736 - val_accuracy: 1.0000\n",
      "Epoch 39/100\n",
      "2/2 [==============================] - 0s 10ms/step - loss: 0.1853 - accuracy: 1.0000 - val_loss: 0.1692 - val_accuracy: 1.0000\n",
      "Epoch 40/100\n",
      "2/2 [==============================] - 0s 9ms/step - loss: 0.1808 - accuracy: 1.0000 - val_loss: 0.1649 - val_accuracy: 1.0000\n",
      "Epoch 41/100\n",
      "2/2 [==============================] - 0s 10ms/step - loss: 0.1763 - accuracy: 1.0000 - val_loss: 0.1606 - val_accuracy: 1.0000\n",
      "Epoch 42/100\n",
      "2/2 [==============================] - 0s 11ms/step - loss: 0.1719 - accuracy: 1.0000 - val_loss: 0.1565 - val_accuracy: 1.0000\n",
      "Epoch 43/100\n",
      "2/2 [==============================] - 0s 13ms/step - loss: 0.1676 - accuracy: 1.0000 - val_loss: 0.1525 - val_accuracy: 1.0000\n",
      "Epoch 44/100\n",
      "2/2 [==============================] - 0s 11ms/step - loss: 0.1634 - accuracy: 1.0000 - val_loss: 0.1485 - val_accuracy: 1.0000\n",
      "Epoch 45/100\n",
      "2/2 [==============================] - 0s 10ms/step - loss: 0.1593 - accuracy: 1.0000 - val_loss: 0.1447 - val_accuracy: 1.0000\n",
      "Epoch 46/100\n",
      "2/2 [==============================] - 0s 12ms/step - loss: 0.1552 - accuracy: 1.0000 - val_loss: 0.1410 - val_accuracy: 1.0000\n",
      "Epoch 47/100\n",
      "2/2 [==============================] - 0s 11ms/step - loss: 0.1514 - accuracy: 1.0000 - val_loss: 0.1374 - val_accuracy: 1.0000\n",
      "Epoch 48/100\n",
      "2/2 [==============================] - 0s 10ms/step - loss: 0.1476 - accuracy: 1.0000 - val_loss: 0.1339 - val_accuracy: 1.0000\n",
      "Epoch 49/100\n",
      "2/2 [==============================] - 0s 15ms/step - loss: 0.1438 - accuracy: 1.0000 - val_loss: 0.1304 - val_accuracy: 1.0000\n",
      "Epoch 50/100\n",
      "2/2 [==============================] - 0s 13ms/step - loss: 0.1402 - accuracy: 1.0000 - val_loss: 0.1270 - val_accuracy: 1.0000\n",
      "Epoch 51/100\n",
      "2/2 [==============================] - 0s 12ms/step - loss: 0.1367 - accuracy: 1.0000 - val_loss: 0.1238 - val_accuracy: 1.0000\n",
      "Epoch 52/100\n",
      "2/2 [==============================] - 0s 12ms/step - loss: 0.1332 - accuracy: 1.0000 - val_loss: 0.1207 - val_accuracy: 1.0000\n",
      "Epoch 53/100\n"
     ]
    },
    {
     "name": "stdout",
     "output_type": "stream",
     "text": [
      "2/2 [==============================] - 0s 9ms/step - loss: 0.1299 - accuracy: 1.0000 - val_loss: 0.1176 - val_accuracy: 1.0000\n",
      "Epoch 54/100\n",
      "2/2 [==============================] - 0s 12ms/step - loss: 0.1266 - accuracy: 1.0000 - val_loss: 0.1146 - val_accuracy: 1.0000\n",
      "Epoch 55/100\n",
      "2/2 [==============================] - 0s 10ms/step - loss: 0.1234 - accuracy: 1.0000 - val_loss: 0.1116 - val_accuracy: 1.0000\n",
      "Epoch 56/100\n",
      "2/2 [==============================] - 0s 12ms/step - loss: 0.1201 - accuracy: 1.0000 - val_loss: 0.1086 - val_accuracy: 1.0000\n",
      "Epoch 57/100\n",
      "2/2 [==============================] - 0s 10ms/step - loss: 0.1171 - accuracy: 1.0000 - val_loss: 0.1058 - val_accuracy: 1.0000\n",
      "Epoch 58/100\n",
      "2/2 [==============================] - 0s 10ms/step - loss: 0.1141 - accuracy: 1.0000 - val_loss: 0.1031 - val_accuracy: 1.0000\n",
      "Epoch 59/100\n",
      "2/2 [==============================] - 0s 11ms/step - loss: 0.1113 - accuracy: 1.0000 - val_loss: 0.1005 - val_accuracy: 1.0000\n",
      "Epoch 60/100\n",
      "2/2 [==============================] - 0s 11ms/step - loss: 0.1083 - accuracy: 1.0000 - val_loss: 0.0979 - val_accuracy: 1.0000\n",
      "Epoch 61/100\n",
      "2/2 [==============================] - 0s 10ms/step - loss: 0.1056 - accuracy: 1.0000 - val_loss: 0.0955 - val_accuracy: 1.0000\n",
      "Epoch 62/100\n",
      "2/2 [==============================] - 0s 10ms/step - loss: 0.1029 - accuracy: 1.0000 - val_loss: 0.0930 - val_accuracy: 1.0000\n",
      "Epoch 63/100\n",
      "2/2 [==============================] - 0s 10ms/step - loss: 0.1003 - accuracy: 1.0000 - val_loss: 0.0907 - val_accuracy: 1.0000\n",
      "Epoch 64/100\n",
      "2/2 [==============================] - 0s 12ms/step - loss: 0.0978 - accuracy: 1.0000 - val_loss: 0.0883 - val_accuracy: 1.0000\n",
      "Epoch 65/100\n",
      "2/2 [==============================] - 0s 13ms/step - loss: 0.0953 - accuracy: 1.0000 - val_loss: 0.0861 - val_accuracy: 1.0000\n",
      "Epoch 66/100\n",
      "2/2 [==============================] - 0s 10ms/step - loss: 0.0929 - accuracy: 1.0000 - val_loss: 0.0839 - val_accuracy: 1.0000\n",
      "Epoch 67/100\n",
      "2/2 [==============================] - 0s 12ms/step - loss: 0.0905 - accuracy: 1.0000 - val_loss: 0.0818 - val_accuracy: 1.0000\n",
      "Epoch 68/100\n",
      "2/2 [==============================] - 0s 12ms/step - loss: 0.0882 - accuracy: 1.0000 - val_loss: 0.0797 - val_accuracy: 1.0000\n",
      "Epoch 69/100\n",
      "2/2 [==============================] - 0s 14ms/step - loss: 0.0860 - accuracy: 1.0000 - val_loss: 0.0777 - val_accuracy: 1.0000\n",
      "Epoch 70/100\n",
      "2/2 [==============================] - 0s 13ms/step - loss: 0.0838 - accuracy: 1.0000 - val_loss: 0.0758 - val_accuracy: 1.0000\n",
      "Epoch 71/100\n",
      "2/2 [==============================] - 0s 13ms/step - loss: 0.0817 - accuracy: 1.0000 - val_loss: 0.0739 - val_accuracy: 1.0000\n",
      "Epoch 72/100\n",
      "2/2 [==============================] - 0s 16ms/step - loss: 0.0797 - accuracy: 1.0000 - val_loss: 0.0721 - val_accuracy: 1.0000\n",
      "Epoch 73/100\n",
      "2/2 [==============================] - 0s 14ms/step - loss: 0.0777 - accuracy: 1.0000 - val_loss: 0.0703 - val_accuracy: 1.0000\n",
      "Epoch 74/100\n",
      "2/2 [==============================] - 0s 15ms/step - loss: 0.0757 - accuracy: 1.0000 - val_loss: 0.0685 - val_accuracy: 1.0000\n",
      "Epoch 75/100\n",
      "2/2 [==============================] - 0s 13ms/step - loss: 0.0739 - accuracy: 1.0000 - val_loss: 0.0668 - val_accuracy: 1.0000\n",
      "Epoch 76/100\n",
      "2/2 [==============================] - ETA: 0s - loss: 0.0712 - accuracy: 1.00 - 0s 13ms/step - loss: 0.0720 - accuracy: 1.0000 - val_loss: 0.0651 - val_accuracy: 1.0000\n",
      "Epoch 77/100\n",
      "2/2 [==============================] - 0s 14ms/step - loss: 0.0701 - accuracy: 1.0000 - val_loss: 0.0635 - val_accuracy: 1.0000\n",
      "Epoch 78/100\n",
      "2/2 [==============================] - 0s 15ms/step - loss: 0.0684 - accuracy: 1.0000 - val_loss: 0.0620 - val_accuracy: 1.0000\n",
      "Epoch 79/100\n",
      "2/2 [==============================] - 0s 15ms/step - loss: 0.0667 - accuracy: 1.0000 - val_loss: 0.0605 - val_accuracy: 1.0000\n",
      "Epoch 80/100\n",
      "2/2 [==============================] - 0s 13ms/step - loss: 0.0651 - accuracy: 1.0000 - val_loss: 0.0589 - val_accuracy: 1.0000\n",
      "Epoch 81/100\n",
      "2/2 [==============================] - 0s 14ms/step - loss: 0.0634 - accuracy: 1.0000 - val_loss: 0.0574 - val_accuracy: 1.0000\n",
      "Epoch 82/100\n",
      "2/2 [==============================] - 0s 14ms/step - loss: 0.0618 - accuracy: 1.0000 - val_loss: 0.0559 - val_accuracy: 1.0000\n",
      "Epoch 83/100\n",
      "2/2 [==============================] - 0s 16ms/step - loss: 0.0602 - accuracy: 1.0000 - val_loss: 0.0545 - val_accuracy: 1.0000\n",
      "Epoch 84/100\n",
      "2/2 [==============================] - 0s 19ms/step - loss: 0.0586 - accuracy: 1.0000 - val_loss: 0.0531 - val_accuracy: 1.0000\n",
      "Epoch 85/100\n",
      "2/2 [==============================] - 0s 15ms/step - loss: 0.0571 - accuracy: 1.0000 - val_loss: 0.0517 - val_accuracy: 1.0000\n",
      "Epoch 86/100\n",
      "2/2 [==============================] - 0s 16ms/step - loss: 0.0557 - accuracy: 1.0000 - val_loss: 0.0504 - val_accuracy: 1.0000\n",
      "Epoch 87/100\n",
      "2/2 [==============================] - 0s 17ms/step - loss: 0.0543 - accuracy: 1.0000 - val_loss: 0.0491 - val_accuracy: 1.0000\n",
      "Epoch 88/100\n",
      "2/2 [==============================] - 0s 16ms/step - loss: 0.0529 - accuracy: 1.0000 - val_loss: 0.0479 - val_accuracy: 1.0000\n",
      "Epoch 89/100\n",
      "2/2 [==============================] - 0s 17ms/step - loss: 0.0515 - accuracy: 1.0000 - val_loss: 0.0467 - val_accuracy: 1.0000\n",
      "Epoch 90/100\n",
      "2/2 [==============================] - 0s 19ms/step - loss: 0.0502 - accuracy: 1.0000 - val_loss: 0.0455 - val_accuracy: 1.0000\n",
      "Epoch 91/100\n",
      "2/2 [==============================] - 0s 14ms/step - loss: 0.0489 - accuracy: 1.0000 - val_loss: 0.0443 - val_accuracy: 1.0000\n",
      "Epoch 92/100\n",
      "2/2 [==============================] - 0s 13ms/step - loss: 0.0477 - accuracy: 1.0000 - val_loss: 0.0432 - val_accuracy: 1.0000\n",
      "Epoch 93/100\n",
      "2/2 [==============================] - 0s 9ms/step - loss: 0.0465 - accuracy: 1.0000 - val_loss: 0.0421 - val_accuracy: 1.0000\n",
      "Epoch 94/100\n",
      "2/2 [==============================] - 0s 11ms/step - loss: 0.0453 - accuracy: 1.0000 - val_loss: 0.0410 - val_accuracy: 1.0000\n",
      "Epoch 95/100\n",
      "2/2 [==============================] - 0s 10ms/step - loss: 0.0441 - accuracy: 1.0000 - val_loss: 0.0399 - val_accuracy: 1.0000\n",
      "Epoch 96/100\n",
      "2/2 [==============================] - 0s 14ms/step - loss: 0.0430 - accuracy: 1.0000 - val_loss: 0.0389 - val_accuracy: 1.0000\n",
      "Epoch 97/100\n",
      "2/2 [==============================] - 0s 12ms/step - loss: 0.0419 - accuracy: 1.0000 - val_loss: 0.0379 - val_accuracy: 1.0000\n",
      "Epoch 98/100\n",
      "2/2 [==============================] - 0s 12ms/step - loss: 0.0408 - accuracy: 1.0000 - val_loss: 0.0370 - val_accuracy: 1.0000\n",
      "Epoch 99/100\n",
      "2/2 [==============================] - 0s 13ms/step - loss: 0.0398 - accuracy: 1.0000 - val_loss: 0.0361 - val_accuracy: 1.0000\n"
     ]
    }
   ],
   "source": [
    "model = Sequential([\n",
    "    Dense(20, input_dim=10, activation='relu'),\n",
    "    Dense(20, activation='relu'),\n",
    "    Dense(2, activation='softmax')\n",
    "])\n",
    "\n",
    "callback = keras.callbacks.EarlyStopping(monitor='loss', patience=1, min_delta=0.001)\n",
    "model.compile(Adam(lr=.0005), loss=\"sparse_categorical_crossentropy\", metrics=['accuracy'])\n",
    "\n",
    "xtrain = pd.read_csv(\"X_train.csv\").to_numpy()\n",
    "ytrain = pd.read_csv(\"y_train.csv\").to_numpy().flatten()\n",
    "\n",
    "xtest = pd.read_csv(\"X_test.csv\").to_numpy()\n",
    "ytest = pd.read_csv(\"y_test.csv\").to_numpy().flatten()    \n",
    "    \n",
    "model.summary()\n",
    "\n",
    "modelf = model.fit(xtrain, ytrain, validation_data=(xtest, ytest), callbacks=[callback], epochs=100, batch_size=64)\n",
    "\n",
    "def predict_model(input):\n",
    "    inputr = model(input.reshape(1, 10))[0]\n",
    "    classes = sorted(np.unique(ytrain))\n",
    "    prediction = classes[np.argmax(inputr)]\n",
    "    return prediction\n",
    "    \n",
    "guesses = np.array([predict_model(i) for i in xtest])"
   ]
  },
  {
   "cell_type": "code",
   "execution_count": 4,
   "id": "9f5c9105",
   "metadata": {},
   "outputs": [
    {
     "name": "stdout",
     "output_type": "stream",
     "text": [
      "INFO:tensorflow:Assets written to: stuff/ANN\\assets\n"
     ]
    }
   ],
   "source": [
    "model.save('stuff/ANN')"
   ]
  },
  {
   "cell_type": "code",
   "execution_count": 5,
   "id": "02a2b4fc",
   "metadata": {
    "colab": {
     "base_uri": "https://localhost:8080/"
    },
    "executionInfo": {
     "elapsed": 5,
     "status": "ok",
     "timestamp": 1651171181336,
     "user": {
      "displayName": "Brittney Jarreau",
      "userId": "03330320210520570799"
     },
     "user_tz": 300
    },
    "id": "02a2b4fc",
    "outputId": "2ea444ed-f467-408b-bfe8-242195725d90"
   },
   "outputs": [
    {
     "name": "stdout",
     "output_type": "stream",
     "text": [
      "[1.0, 1.0, 1.0, 1.0, 1.0]\n"
     ]
    }
   ],
   "source": [
    "from sklearn.metrics import accuracy_score, confusion_matrix, f1_score\n",
    "import sklearn.model_selection as model_selection\n",
    "from sklearn import metrics\n",
    "\n",
    "\n",
    "def get_scores(acc, labels, prediction):\n",
    "    f1 = metrics.f1_score(labels, prediction)\n",
    "    conf_matrix = metrics.confusion_matrix(labels, prediction)\n",
    "    sens = conf_matrix[0,0]/(conf_matrix[0,0]+conf_matrix[0,1])\n",
    "    spec = conf_matrix[1,1]/(conf_matrix[1,0]+conf_matrix[1,1])\n",
    "    auc = metrics.roc_auc_score(labels, prediction)\n",
    "    return sens, spec, f1, auc, acc\n",
    "\n",
    "\n",
    "acc = accuracy_score(ytest, guesses)\n",
    "sens, spec, f1, AUC, acc = get_scores(acc, ytest, guesses)\n",
    "values = [sens, spec, f1, AUC, acc]\n",
    "print(values)"
   ]
  },
  {
   "cell_type": "code",
   "execution_count": 6,
   "id": "df0403bb",
   "metadata": {
    "colab": {
     "base_uri": "https://localhost:8080/",
     "height": 777
    },
    "executionInfo": {
     "elapsed": 1450,
     "status": "ok",
     "timestamp": 1651171182782,
     "user": {
      "displayName": "Brittney Jarreau",
      "userId": "03330320210520570799"
     },
     "user_tz": 300
    },
    "id": "df0403bb",
    "outputId": "820799bc-7415-42b2-fdd1-edb818d00248"
   },
   "outputs": [
    {
     "data": {
      "image/png": "[encoded data removed]",
      "text/plain": [
       "<Figure size 432x288 with 1 Axes>"
      ]
     },
     "metadata": {
      "needs_background": "light"
     },
     "output_type": "display_data"
    },
    {
     "data": {
      "image/png": "[encoded data removed]",
      "text/plain": [
       "<Figure size 432x288 with 1 Axes>"
      ]
     },
     "metadata": {
      "needs_background": "light"
     },
     "output_type": "display_data"
    },
    {
     "data": {
      "image/png": "[encoded data removed]",
      "text/plain": [
       "<Figure size 432x288 with 1 Axes>"
      ]
     },
     "metadata": {
      "needs_background": "light"
     },
     "output_type": "display_data"
    }
   ],
   "source": [
    "labels = [\"Sensitivity\", \"Specificity\", \"F1\", \"AUC\", \"Accuracy\"]\n",
    "plt.title(\"Performance Measures\")\n",
    "width =0.3\n",
    "plt.xticks(range(len(labels)), labels)\n",
    "plt.bar(np.arange(len(values)), values, width=width)\n",
    "plt.show()\n",
    "\n",
    "def summarize_diagnostics(history):\n",
    "    plt.plot(history.history['accuracy'], label='Training Accuracy')\n",
    "    plt.plot(history.history['val_accuracy'], label='Validation Accuracy')\n",
    "    plt.legend()\n",
    "    plt.show()\n",
    "    \n",
    "    plt.plot(history.history['loss'], label='Training Loss')\n",
    "    plt.plot(history.history['val_loss'], label='Validation Loss')\n",
    "    plt.legend()\n",
    "    plt.show()\n",
    "\n",
    "_, acc = model.evaluate(xtest, verbose=0)\n",
    "summarize_diagnostics(modelf)"
   ]
  }
 ],
 "metadata": {
  "colab": {
   "collapsed_sections": [],
   "name": "ANN.ipynb",
   "provenance": []
  },
  "kernelspec": {
   "display_name": "Python 3 (ipykernel)",
   "language": "python",
   "name": "python3"
  },
  "language_info": {
   "codemirror_mode": {
    "name": "ipython",
    "version": 3
   },
   "file_extension": ".py",
   "mimetype": "text/x-python",
   "name": "python",
   "nbconvert_exporter": "python",
   "pygments_lexer": "ipython3",
   "version": "3.8.12"
  }
 },
 "nbformat": 4,
 "nbformat_minor": 5
}
